{
 "cells": [
  {
   "cell_type": "code",
   "execution_count": 1,
   "metadata": {},
   "outputs": [],
   "source": [
    "import os\n",
    "import json\n",
    "import cobra\n",
    "import pandas as pd\n",
    "import time\n",
    "import re\n",
    "from goatools import obo_parser\n",
    "\n",
    "import sys\n",
    "sys.path.append('../script')\n",
    "from GO_Kcat_analysis import *"
   ]
  },
  {
   "cell_type": "markdown",
   "metadata": {},
   "source": [
    "# Input and output data"
   ]
  },
  {
   "cell_type": "code",
   "execution_count": null,
   "metadata": {},
   "outputs": [],
   "source": [
    "# Model file\n",
    "model_file = '../data/iML1515R/iML1515R.json'\n",
    "\n",
    "# GO-kcat relationship data from UniProt\n",
    "GO_kcat_file = '../data/GO/GO_kcat_tree_total.csv'\n",
    "\n",
    "#download an .obo file of the most current GO: \n",
    "# wget http://current.geneontology.org/ontology/go-basic.obo\n",
    "obo_path = '../data/GO/go-basic.obo'\n",
    "\n",
    "# The Taxonomy information corresponding to the model's species.\n",
    "org_name = 'Corynebacterium glutamicum'  # replace with the actual biological name ：Bacillus subtilis，Thermus thermophilus，Corynebacterium glutamicum\n",
    "org_type = 'org_name' \n",
    "\n",
    "# Output file\n",
    "model_name = os.path.splitext(os.path.basename(model_file))[0]\n",
    "output_dir = f\"../analysis/DeepGO-SE/{model_name}\"\n",
    "os.makedirs(output_dir, exist_ok=True)\n",
    "\n",
    "#model gene information\n",
    "gene_csv_path = os.path.join(output_dir, 'gene.csv')\n",
    "\n",
    "# protein sequences information\n",
    "raw_fasta_path = os.path.join(output_dir, 'protein_sequences.fasta')\n",
    "\n",
    "# cleaned protein sequences information\n",
    "cleaned_fasta_path = os.path.join(output_dir, f\"{model_name}_protein_sequences_cleaned.fasta\")\n",
    "\n",
    "# DeepGO-SE/ predicted data\n",
    "deepgo_base = f\"../data/DeepGO-SE/{model_name}\"\n",
    "\n",
    "# Calculate GO-kcat values\n",
    "go_kcat_out_file = os.path.join(output_dir, \"go_kcat_mean_parent.json\")"
   ]
  },
  {
   "cell_type": "markdown",
   "metadata": {},
   "source": [
    "# Get ptrotein sequence"
   ]
  },
  {
   "cell_type": "markdown",
   "metadata": {},
   "source": [
    "Extract the gene ID from the model, obtain the corresponding protein sequence, and save these sequences as FASTA format files. At the same time, it also cleans the generated FASTA file, removes duplicate sequences, and saves the cleaned result as a new FASTA file.\n",
    "\n"
   ]
  },
  {
   "cell_type": "code",
   "execution_count": 3,
   "metadata": {},
   "outputs": [
    {
     "name": "stdout",
     "output_type": "stream",
     "text": [
      "gene.csv has been saved to: ../analysis/DeepGO-SE/iML1515R/gene.csv\n",
      "Processed 50/1516 genes\n",
      "Processed 100/1516 genes\n",
      "Processed 150/1516 genes\n",
      "Processed 200/1516 genes\n",
      "Processed 250/1516 genes\n",
      "Processed 300/1516 genes\n",
      "Processed 350/1516 genes\n",
      "Processed 400/1516 genes\n",
      "Processed 450/1516 genes\n",
      "Processed 500/1516 genes\n",
      "Processed 550/1516 genes\n",
      "Processed 600/1516 genes\n",
      "Processed 650/1516 genes\n",
      "Processed 700/1516 genes\n",
      "Processed 750/1516 genes\n",
      "Processed 800/1516 genes\n",
      "Processed 850/1516 genes\n",
      "Processed 900/1516 genes\n",
      "Processed 950/1516 genes\n",
      "Processed 1000/1516 genes\n",
      "Processed 1050/1516 genes\n",
      "Processed 1100/1516 genes\n",
      "Processed 1150/1516 genes\n",
      "Processed 1200/1516 genes\n",
      "Processed 1250/1516 genes\n",
      "Processed 1300/1516 genes\n",
      "Processed 1350/1516 genes\n",
      "Processed 1400/1516 genes\n",
      "Processed 1450/1516 genes\n",
      "Processed 1500/1516 genes\n",
      "Raw FASTA has been saved to: ../analysis/DeepGO-SE/iML1515R/protein_sequences.fasta\n",
      "Cleaning completed. Results saved to: ../analysis/DeepGO-SE/iML1515R/iML1515R_protein_sequences_cleaned.fasta\n",
      "Total unique sequences: 18252\n"
     ]
    }
   ],
   "source": [
    "# 1. Read model\n",
    "model = cobra.io.load_json_model(model_file)\n",
    "convert_to_irreversible(model)\n",
    "norm_model = isoenzyme_split(model)\n",
    "\n",
    "# 2. Extract gene IDs and save them to a CSV file\n",
    "gene_ids = [gene.id for gene in norm_model.genes]\n",
    "gene_df = pd.DataFrame({'gene': gene_ids})\n",
    "gene_df.to_csv(gene_csv_path, index=False)\n",
    "print(f\"gene.csv has been saved to: {gene_csv_path}\")\n",
    "\n",
    "# 3. Retrieve protein sequences and write them to a FASTA file (with error retries)\n",
    "\n",
    "with open(raw_fasta_path, 'w') as output_file:\n",
    "    for idx, gene_name in enumerate(gene_ids, 1):\n",
    "        raw_fasta = get_uniprot_sequence_by_gene(gene_name)\n",
    "        if raw_fasta:\n",
    "            output_file.write(raw_fasta.strip() + '\\n')  \n",
    "        else:\n",
    "            print(f\"Failed to retrieve sequence for: {gene_name}\")\n",
    "\n",
    "        if idx % 50 == 0:\n",
    "            print(f\"Processed {idx}/{len(gene_ids)} genes\")\n",
    "        time.sleep(0.3)\n",
    "print(f\"Raw FASTA has been saved to: {raw_fasta_path}\")\n",
    "\n",
    "# 4. Clean the FASTA file (remove duplicates)\n",
    "with open(raw_fasta_path, \"r\") as file:\n",
    "    input_text = file.read()\n",
    "\n",
    "pattern = re.compile(r'^>([^\\n]+)\\n([^>]*)', re.MULTILINE)\n",
    "matches = pattern.findall(input_text)\n",
    "\n",
    "seen_headers = set()\n",
    "cleaned_lines = []\n",
    "for header_line, sequence_block in matches:\n",
    "   \n",
    "    if '|' in header_line:\n",
    "        header_id = header_line.split('|')[1]  \n",
    "    else:\n",
    "        header_id = header_line.strip()        \n",
    "\n",
    "    if header_id not in seen_headers:\n",
    "        seen_headers.add(header_id)\n",
    "\n",
    "        sequence = sequence_block.replace('\\n', '').replace(' ', '')\n",
    "        formatted_seq = '\\n'.join([sequence[i:i+60] for i in range(0, len(sequence), 60)])\n",
    "        cleaned_lines.append(f'>{header_id}\\n{formatted_seq}\\n')\n",
    "\n",
    "with open(cleaned_fasta_path, \"w\") as file:\n",
    "    file.writelines(cleaned_lines)\n",
    "\n",
    "print(f\"Cleaning completed. Results saved to: {cleaned_fasta_path}\")\n",
    "print(f\"Total unique sequences: {len(seen_headers)}\")"
   ]
  },
  {
   "cell_type": "markdown",
   "metadata": {},
   "source": [
    "# DeepGO-SE prediction"
   ]
  },
  {
   "cell_type": "markdown",
   "metadata": {},
   "source": [
    "DeepGO-SE was used to predict the GO function of protein sequences in {model_name}_protein_sequences_cleaned, supporting three types of GO: BP, MF, and CC.\n",
    "\n",
    "Reference: https://www.nature.com/articles/s42256-024-00795-w\n",
    "\n",
    "Code repository：https://github.com/bio-ontology-research-group/deepgo2\n"
   ]
  },
  {
   "cell_type": "markdown",
   "metadata": {},
   "source": [
    "# Integration of GO predicted by DeepGO-SE"
   ]
  },
  {
   "cell_type": "markdown",
   "metadata": {},
   "source": [
    "Load the DeepGO-SE prediction results, merge the prediction data of different GO types (BP, CC, MF), and count the number of predictions for each GO type."
   ]
  },
  {
   "cell_type": "code",
   "execution_count": 4,
   "metadata": {},
   "outputs": [
    {
     "name": "stdout",
     "output_type": "stream",
     "text": [
      "GO term counts by type:\n",
      "BP    75631\n",
      "MF    30511\n",
      "CC    15317\n",
      "Name: go_type, dtype: int64\n"
     ]
    }
   ],
   "source": [
    "# Load DeepGO-SE prediction results\n",
    "go_types = ['BP', 'CC', 'MF']\n",
    "df_list = []\n",
    "for go in go_types:\n",
    "    fp = os.path.join(deepgo_base, f\"{go}.csv\")\n",
    "    df = pd.read_csv(fp, header=None, sep='\\t', names=['uniprot', 'GO_term', 'kcat'])\n",
    "    df['go_type'] = go\n",
    "    df_list.append(df)\n",
    "df_final = pd.concat(df_list)\n",
    "df_final.to_excel(os.path.join(deepgo_base, \"GO_Predictions_Combined.xlsx\"), index=False)\n",
    "\n",
    "result = {}\n",
    "for _, row in df_final.iterrows():\n",
    "    result.setdefault(row['go_type'], {}).setdefault(row['uniprot'], set()).add(row['GO_term'])\n",
    "for gt in result:\n",
    "    for uid in result[gt]:\n",
    "        result[gt][uid] = list(result[gt][uid])\n",
    "        \n",
    "print(\"GO term counts by type:\")\n",
    "print(df_final['go_type'].value_counts())"
   ]
  },
  {
   "cell_type": "markdown",
   "metadata": {},
   "source": [
    "It is to load the GO (Gene Ontology) data and the kcat value file, and calculate the average kcat value of the GO items of the specified organisms (such as Escherichia coli, Bacillus subtilis, etc.)"
   ]
  },
  {
   "cell_type": "code",
   "execution_count": 5,
   "metadata": {},
   "outputs": [
    {
     "name": "stdout",
     "output_type": "stream",
     "text": [
      "../data/GO/go-basic.obo: fmt(1.2) rel(2025-03-16) 43,544 Terms\n"
     ]
    },
    {
     "name": "stderr",
     "output_type": "stream",
     "text": [
      "100%|██████████| 5883/5883 [11:14<00:00,  8.72it/s] \n"
     ]
    }
   ],
   "source": [
    "go = obo_parser.GODag(obo_path)\n",
    "\n",
    "# Calculate GO-kcat values\n",
    "go_kcat_out_file = os.path.join(output_dir, \"go_kcat_mean_parent.json\")\n",
    "go_term_mean_kcat_dict = get_go_term_mean_kcat_by_org_v3_2(norm_model, result, org_type, org_name, GO_kcat_file, go)\n",
    "with open(go_kcat_out_file, 'w') as f:\n",
    "    json.dump(go_term_mean_kcat_dict, f, indent=4)"
   ]
  },
  {
   "cell_type": "markdown",
   "metadata": {},
   "source": [
    "# Obtain the Reaction-gene-GO relationship"
   ]
  },
  {
   "cell_type": "code",
   "execution_count": null,
   "metadata": {},
   "outputs": [
    {
     "name": "stdout",
     "output_type": "stream",
     "text": [
      "\n",
      "Summary of GO-term kcat coverage:\n",
      "Total: 5338 reactions\n"
     ]
    }
   ],
   "source": [
    "# Post-process into max/mean/median\n",
    "for go_type in ['Total']:\n",
    "    for clc_type in ['median']:\n",
    "        out_file = os.path.join(output_dir, f'go_kcat_mean_parent_process_{go_type}_{clc_type}.json')\n",
    "        data = process_data(go_term_mean_kcat_dict, go_type, clc_type)\n",
    "        with open(out_file, 'w') as f:\n",
    "            json.dump(data, f, indent=4)\n",
    "\n",
    "print(\"\\nSummary of GO-term kcat coverage:\")\n",
    "for gt in ['Total']:\n",
    "    count = sum(1 for reac in go_term_mean_kcat_dict if any(go_term_mean_kcat_dict[reac][gt].values()))\n",
    "    print(f\"{gt}: {count} reactions\")"
   ]
  }
 ],
 "metadata": {
  "kernelspec": {
   "display_name": "GOHKP",
   "language": "python",
   "name": "python3"
  },
  "language_info": {
   "codemirror_mode": {
    "name": "ipython",
    "version": 3
   },
   "file_extension": ".py",
   "mimetype": "text/x-python",
   "name": "python",
   "nbconvert_exporter": "python",
   "pygments_lexer": "ipython3",
   "version": "3.8.16"
  }
 },
 "nbformat": 4,
 "nbformat_minor": 2
}
